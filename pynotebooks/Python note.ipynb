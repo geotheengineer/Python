{
 "cells": [
  {
   "cell_type": "markdown",
   "metadata": {},
   "source": [
    "# Outputs"
   ]
  },
  {
   "cell_type": "code",
   "execution_count": 3,
   "metadata": {
    "collapsed": false
   },
   "outputs": [
    {
     "name": "stdout",
     "output_type": "stream",
     "text": [
      "hello\n",
      "5\n",
      "5\n"
     ]
    }
   ],
   "source": [
    "a = 'hello'\n",
    "print a\n",
    "x=len(a) # length of string\n",
    "print x\n",
    "print len('hello')"
   ]
  },
  {
   "cell_type": "code",
   "execution_count": 4,
   "metadata": {
    "collapsed": false
   },
   "outputs": [
    {
     "data": {
      "text/plain": [
       "'hello6'"
      ]
     },
     "execution_count": 4,
     "metadata": {},
     "output_type": "execute_result"
    }
   ],
   "source": [
    "'hello' + str(6) # coverts vaule to string"
   ]
  },
  {
   "cell_type": "markdown",
   "metadata": {},
   "source": [
    "# Inputs"
   ]
  },
  {
   "cell_type": "code",
   "execution_count": null,
   "metadata": {
    "collapsed": false
   },
   "outputs": [],
   "source": [
    "n = raw_input(\"Whats good boi\")\n",
    "print n\n",
    "t = raw_input(\"lalalala\")\n",
    "print n + t\n",
    "\n",
    "prompt = \"What...is the airspeed velocity of an unladen swallow?\\n\"\n",
    "speed = input(prompt)"
   ]
  },
  {
   "cell_type": "markdown",
   "metadata": {},
   "source": [
    "# Type conversion"
   ]
  },
  {
   "cell_type": "code",
   "execution_count": null,
   "metadata": {
    "collapsed": true
   },
   "outputs": [],
   "source": [
    "float(32)\n",
    "int(-2.3)\n",
    "int(\"32\")\n",
    "str(32)\n",
    "bool(3.14159)\n",
    "bool(0.0)"
   ]
  },
  {
   "cell_type": "markdown",
   "metadata": {},
   "source": [
    "# *GASP (Graphics API for Students of Python)"
   ]
  },
  {
   "cell_type": "code",
   "execution_count": 2,
   "metadata": {
    "collapsed": false
   },
   "outputs": [
    {
     "ename": "ImportError",
     "evalue": "No module named gasp",
     "output_type": "error",
     "traceback": [
      "\u001b[1;31m---------------------------------------------------------------------------\u001b[0m",
      "\u001b[1;31mImportError\u001b[0m                               Traceback (most recent call last)",
      "\u001b[1;32m<ipython-input-2-69cfc49d6d51>\u001b[0m in \u001b[0;36m<module>\u001b[1;34m()\u001b[0m\n\u001b[1;32m----> 1\u001b[1;33m \u001b[1;32mfrom\u001b[0m \u001b[0mgasp\u001b[0m \u001b[1;32mimport\u001b[0m \u001b[1;33m*\u001b[0m\u001b[1;33m\u001b[0m\u001b[0m\n\u001b[0m\u001b[0;32m      2\u001b[0m \u001b[1;33m\u001b[0m\u001b[0m\n\u001b[0;32m      3\u001b[0m \u001b[0mbegin_graphics\u001b[0m\u001b[1;33m(\u001b[0m\u001b[1;33m)\u001b[0m\u001b[1;33m\u001b[0m\u001b[0m\n\u001b[0;32m      4\u001b[0m \u001b[1;33m\u001b[0m\u001b[0m\n\u001b[0;32m      5\u001b[0m \u001b[0mCircle\u001b[0m\u001b[1;33m(\u001b[0m\u001b[1;33m(\u001b[0m\u001b[1;36m200\u001b[0m\u001b[1;33m,\u001b[0m \u001b[1;36m200\u001b[0m\u001b[1;33m)\u001b[0m\u001b[1;33m,\u001b[0m \u001b[1;36m60\u001b[0m\u001b[1;33m)\u001b[0m\u001b[1;33m\u001b[0m\u001b[0m\n",
      "\u001b[1;31mImportError\u001b[0m: No module named gasp"
     ]
    }
   ],
   "source": [
    "from gasp import *\n",
    "\n",
    "begin_graphics()\n",
    "\n",
    "Circle((200, 200), 60)\n",
    "Line((100, 400), (580, 200))\n",
    "Box((400, 350), 120, 100)\n",
    "\n",
    "update_when('key_pressed')\n",
    "end_graphics()"
   ]
  },
  {
   "cell_type": "code",
   "execution_count": 8,
   "metadata": {
    "collapsed": false
   },
   "outputs": [
    {
     "name": "stdout",
     "output_type": "stream",
     "text": [
      "\n",
      "a\n",
      "\n",
      "b\n"
     ]
    }
   ],
   "source": [
    "def new_line():\n",
    "    print          # a print statement with no arguments prints a new line\n",
    "    print 'a'\n",
    "    print\n",
    "    print 'b'\n",
    "def main():\n",
    "    new_line()\n",
    "    \n",
    "if __name__ == '__main__':\n",
    "    main()\n"
   ]
  },
  {
   "cell_type": "markdown",
   "metadata": {},
   "source": [
    "# Conditionals"
   ]
  },
  {
   "cell_type": "code",
   "execution_count": null,
   "metadata": {
    "collapsed": true
   },
   "outputs": [],
   "source": [
    "x == y               # x is equal to y\n",
    "x != y               # x is not equal to y\n",
    "x > y                # x is greater than y\n",
    "x < y                # x is less than y\n",
    "x >= y               # x is greater than or equal to y\n",
    "x <= y               # x is less than or equal to y"
   ]
  },
  {
   "cell_type": "markdown",
   "metadata": {},
   "source": [
    "# boolean values"
   ]
  },
  {
   "cell_type": "code",
   "execution_count": 1,
   "metadata": {
    "collapsed": false
   },
   "outputs": [
    {
     "data": {
      "text/plain": [
       "bool"
      ]
     },
     "execution_count": 1,
     "metadata": {},
     "output_type": "execute_result"
    }
   ],
   "source": [
    "t = True\n",
    "b = False \n",
    "type(t)"
   ]
  },
  {
   "cell_type": "markdown",
   "metadata": {},
   "source": [
    "# Chain conditionals"
   ]
  },
  {
   "cell_type": "code",
   "execution_count": null,
   "metadata": {
    "collapsed": true
   },
   "outputs": [],
   "source": [
    "if choice == 'a':\n",
    "    function_a()\n",
    "elif choice == 'b':\n",
    "    function_b()\n",
    "elif choice == 'c':\n",
    "    function_c()\n",
    "else:\n",
    "    print \"Invalid choice.\""
   ]
  },
  {
   "cell_type": "markdown",
   "metadata": {},
   "source": [
    "# Using return"
   ]
  },
  {
   "cell_type": "code",
   "execution_count": null,
   "metadata": {
    "collapsed": true
   },
   "outputs": [],
   "source": [
    "def print_square_root(x):\n",
    "    if x <= 0:\n",
    "        print \"Positive numbers only, please.\"\n",
    "        return\n",
    "\n",
    "    result = x**0.5\n",
    "    print \"The square root of\", x, \"is\", result"
   ]
  },
  {
   "cell_type": "markdown",
   "metadata": {},
   "source": [
    "# Basic Main function program"
   ]
  },
  {
   "cell_type": "code",
   "execution_count": 5,
   "metadata": {
    "collapsed": false
   },
   "outputs": [
    {
     "name": "stdout",
     "output_type": "stream",
     "text": [
      "Hello World\n"
     ]
    }
   ],
   "source": [
    "# Define a main() function that prints a little greeting.\n",
    "def main():\n",
    "    \n",
    "  name = 'World'\n",
    "  print 'Hello', name\n",
    "\n",
    "# This is the standard boilerplate that calls the main() function.\n",
    "if __name__ == '__main__':\n",
    "  main()"
   ]
  },
  {
   "cell_type": "markdown",
   "metadata": {},
   "source": [
    "# Useful define functions for math"
   ]
  },
  {
   "cell_type": "code",
   "execution_count": 12,
   "metadata": {
    "collapsed": false
   },
   "outputs": [
    {
     "name": "stdout",
     "output_type": "stream",
     "text": [
      "5\n",
      "8\n",
      "343\n",
      "2\n"
     ]
    }
   ],
   "source": [
    "print abs(-5) # print ablsoulte vaule \n",
    "print pow(2 , 3) # 2 to the power of 3 \n",
    "print max( 100 , 101 , 204 , 343 , 2) # print the max\n",
    "print min(100 , 101 , 204 , 343 , 2) # print the min"
   ]
  },
  {
   "cell_type": "markdown",
   "metadata": {},
   "source": [
    "# Area function example"
   ]
  },
  {
   "cell_type": "code",
   "execution_count": null,
   "metadata": {
    "collapsed": true
   },
   "outputs": [],
   "source": [
    "def area(radius):\n",
    "    return 3.14159 * radius**2"
   ]
  },
  {
   "cell_type": "markdown",
   "metadata": {},
   "source": [
    "# Function Type"
   ]
  },
  {
   "cell_type": "code",
   "execution_count": 1,
   "metadata": {
    "collapsed": false
   },
   "outputs": [
    {
     "name": "stdout",
     "output_type": "stream",
     "text": [
      "15\n",
      "37\n",
      "3\n"
     ]
    }
   ],
   "source": [
    "def f(n):\n",
    "    return 3*n - 6\n",
    "\n",
    "def g(n):\n",
    "    return 5*n + 2\n",
    "\n",
    "def h(n):\n",
    "    return -2*n + 17\n",
    "\n",
    "def doto(value, func):\n",
    "    return func(value)\n",
    "\n",
    "print doto(7, f)\n",
    "print doto(7, g)\n",
    "print doto(7, h)"
   ]
  },
  {
   "cell_type": "markdown",
   "metadata": {},
   "source": [
    "# Different kinds of strings"
   ]
  },
  {
   "cell_type": "code",
   "execution_count": 2,
   "metadata": {
    "collapsed": false
   },
   "outputs": [
    {
     "name": "stdout",
     "output_type": "stream",
     "text": [
      "This message will\n",
      "span several\n",
      "lines.\n"
     ]
    }
   ],
   "source": [
    "message = \"\"\"This message will\n",
    "... span several\n",
    "... lines.\"\"\"\n",
    "print message\n"
   ]
  },
  {
   "cell_type": "markdown",
   "metadata": {},
   "source": [
    "# Printing towards the right"
   ]
  },
  {
   "cell_type": "code",
   "execution_count": 13,
   "metadata": {
    "collapsed": false
   },
   "outputs": [
    {
     "name": "stdout",
     "output_type": "stream",
     "text": [
      "2     4     6     8     10     12    \n"
     ]
    }
   ],
   "source": [
    "i = 1\n",
    "while i <= 6:\n",
    "    print 2 * i, '   ',\n",
    "    i += 1\n",
    "print"
   ]
  },
  {
   "cell_type": "markdown",
   "metadata": {},
   "source": [
    "# Printing tables"
   ]
  },
  {
   "cell_type": "code",
   "execution_count": 14,
   "metadata": {
    "collapsed": false
   },
   "outputs": [
    {
     "name": "stdout",
     "output_type": "stream",
     "text": [
      "1 \t2\n",
      "2 \t4\n",
      "3 \t8\n",
      "4 \t16\n",
      "5 \t32\n",
      "6 \t64\n",
      "7 \t128\n",
      "8 \t256\n",
      "9 \t512\n",
      "10 \t1024\n",
      "11 \t2048\n",
      "12 \t4096\n"
     ]
    }
   ],
   "source": [
    "x = 1\n",
    "while x < 13:\n",
    "    print x, '\\t', 2**x\n",
    "    x += 1"
   ]
  },
  {
   "cell_type": "markdown",
   "metadata": {},
   "source": [
    "# Printing a times table"
   ]
  },
  {
   "cell_type": "code",
   "execution_count": 19,
   "metadata": {
    "collapsed": false
   },
   "outputs": [
    {
     "name": "stdout",
     "output_type": "stream",
     "text": [
      "1 \t2 \t3 \t4 \t5 \t6 \t7 \t8 \t9 \t10 \t11 \t12 \t\n",
      "2 \t4 \t6 \t8 \t10 \t12 \t14 \t16 \t18 \t20 \t22 \t24 \t\n",
      "3 \t6 \t9 \t12 \t15 \t18 \t21 \t24 \t27 \t30 \t33 \t36 \t\n",
      "4 \t8 \t12 \t16 \t20 \t24 \t28 \t32 \t36 \t40 \t44 \t48 \t\n",
      "5 \t10 \t15 \t20 \t25 \t30 \t35 \t40 \t45 \t50 \t55 \t60 \t\n",
      "6 \t12 \t18 \t24 \t30 \t36 \t42 \t48 \t54 \t60 \t66 \t72 \t\n",
      "7 \t14 \t21 \t28 \t35 \t42 \t49 \t56 \t63 \t70 \t77 \t84 \t\n",
      "8 \t16 \t24 \t32 \t40 \t48 \t56 \t64 \t72 \t80 \t88 \t96 \t\n",
      "9 \t18 \t27 \t36 \t45 \t54 \t63 \t72 \t81 \t90 \t99 \t108 \t\n",
      "10 \t20 \t30 \t40 \t50 \t60 \t70 \t80 \t90 \t100 \t110 \t120 \t\n",
      "11 \t22 \t33 \t44 \t55 \t66 \t77 \t88 \t99 \t110 \t121 \t132 \t\n",
      "12 \t24 \t36 \t48 \t60 \t72 \t84 \t96 \t108 \t120 \t132 \t144 \t\n"
     ]
    }
   ],
   "source": [
    "def print_multiples(n):\n",
    "    i = 1\n",
    "    while i <= 12:\n",
    "        print n * i, '\\t',\n",
    "        i += 1\n",
    "    print\n",
    "i = 1\n",
    "while i <= 12:\n",
    "    print_multiples(i)\n",
    "    i += 1  "
   ]
  },
  {
   "cell_type": "markdown",
   "metadata": {},
   "source": [
    "#  Algorithms example : Newton’s method"
   ]
  },
  {
   "cell_type": "code",
   "execution_count": 21,
   "metadata": {
    "collapsed": false
   },
   "outputs": [
    {
     "name": "stdout",
     "output_type": "stream",
     "text": [
      "25\n"
     ]
    },
    {
     "data": {
      "text/plain": [
       "5.0"
      ]
     },
     "execution_count": 21,
     "metadata": {},
     "output_type": "execute_result"
    }
   ],
   "source": [
    "def sqrt(n):\n",
    "    approx = n/2.0\n",
    "    better = (approx + n/approx)/2.0\n",
    "    while better != approx:\n",
    "        approx = better\n",
    "        better = (approx + n/approx)/2.0\n",
    "    return approx\n",
    "n = float(raw_input())\n",
    "sqrt(n)"
   ]
  },
  {
   "cell_type": "markdown",
   "metadata": {},
   "source": [
    "# how to research modules for python"
   ]
  },
  {
   "cell_type": "code",
   "execution_count": null,
   "metadata": {
    "collapsed": true
   },
   "outputs": [],
   "source": [
    "import sys\n",
    "dir(sys)\n",
    "help(sys)\n",
    "help(sys.exit) # exit is something inside sys\n",
    "help(len) "
   ]
  },
  {
   "cell_type": "markdown",
   "metadata": {},
   "source": [
    "# Using if statements "
   ]
  },
  {
   "cell_type": "code",
   "execution_count": 9,
   "metadata": {
    "collapsed": false
   },
   "outputs": [
    {
     "name": "stdout",
     "output_type": "stream",
     "text": [
      "cool\n"
     ]
    }
   ],
   "source": [
    "name = 'Alice'\n",
    "if name == 'Alice':\n",
    "    print 'cool'\n"
   ]
  },
  {
   "cell_type": "markdown",
   "metadata": {},
   "source": [
    "# Using or & else statements "
   ]
  },
  {
   "cell_type": "code",
   "execution_count": 13,
   "metadata": {
    "collapsed": false
   },
   "outputs": [
    {
     "name": "stdout",
     "output_type": "stream",
     "text": [
      "cool\n"
     ]
    }
   ],
   "source": [
    "name = 'Nick'\n",
    "if name == 'Alice' or name == 'Nick':\n",
    "    print 'cool'\n",
    "else:\n",
    "    print 'try again'"
   ]
  },
  {
   "cell_type": "markdown",
   "metadata": {},
   "source": [
    "# adding quotes to string"
   ]
  },
  {
   "cell_type": "code",
   "execution_count": 16,
   "metadata": {
    "collapsed": false
   },
   "outputs": [
    {
     "name": "stdout",
     "output_type": "stream",
     "text": [
      "\"hello\"\n",
      " I \"love\n"
     ]
    }
   ],
   "source": [
    "print'\"hello\"'\n",
    "\n",
    "print \" I \\\"love\""
   ]
  },
  {
   "cell_type": "markdown",
   "metadata": {},
   "source": [
    "# making bigger strings"
   ]
  },
  {
   "cell_type": "code",
   "execution_count": 17,
   "metadata": {
    "collapsed": false
   },
   "outputs": [
    {
     "name": "stdout",
     "output_type": "stream",
     "text": [
      "hey  heyyyy\n"
     ]
    }
   ],
   "source": [
    "a = 'hey'\n",
    "a = a + '  heyyyy'\n",
    "print a"
   ]
  },
  {
   "cell_type": "markdown",
   "metadata": {},
   "source": [
    "# Example of string Methods"
   ]
  },
  {
   "cell_type": "code",
   "execution_count": 35,
   "metadata": {
    "collapsed": false
   },
   "outputs": [
    {
     "name": "stdout",
     "output_type": "stream",
     "text": [
      "1 0\n",
      "H\n",
      "E\n",
      "el\n",
      "ello\n"
     ]
    },
    {
     "data": {
      "text/plain": [
       "'llo'"
      ]
     },
     "execution_count": 35,
     "metadata": {},
     "output_type": "execute_result"
    }
   ],
   "source": [
    "a = 'HELLO'\n",
    "a.lower()  # does not change value of a\n",
    "# many string methods more examples\n",
    "x = a.find('E')\n",
    "y = a.find('H')\n",
    "print x , y \n",
    "\n",
    "#looking inside string \n",
    "print a[0]\n",
    "print a[1]\n",
    "\n",
    "#formatting string \n",
    "'hi %s have %d %s' %('A',2, 'B')\n",
    "\n",
    "# collect move characters \n",
    "a = 'hello'\n",
    "print a[1:3]\n",
    "print a[1:]\n",
    "a[:]\n",
    "a[-4:-2]\n",
    "a[:-3]\n",
    "a[-3:]\n",
    "\n",
    "\n"
   ]
  },
  {
   "cell_type": "markdown",
   "metadata": {},
   "source": [
    "# Lists"
   ]
  },
  {
   "cell_type": "code",
   "execution_count": 71,
   "metadata": {
    "collapsed": false
   },
   "outputs": [
    {
     "name": "stdout",
     "output_type": "stream",
     "text": [
      "[1, 2, 3]\n",
      "[1.2, 'aaa', 3, 4]\n",
      "[13, 'aaa']\n",
      "[1.2, 'aaa', 3, 4]\n",
      "1\n",
      "2\n",
      "3\n",
      "4\n",
      "[1, 2, 3, 4, 4]\n",
      "[2, 3, 4, 4]\n",
      "[2, 5, 6]\n"
     ]
    },
    {
     "data": {
      "text/plain": [
       "['bb', 'ccc', 'd', 'aaaaz']"
      ]
     },
     "execution_count": 71,
     "metadata": {},
     "output_type": "execute_result"
    }
   ],
   "source": [
    "a=[1,2,3]\n",
    "print a\n",
    "\n",
    "a=[1.2, 'aaa']\n",
    "\n",
    "len(a)\n",
    "b = a + [3,4]\n",
    "print b\n",
    "\n",
    "a[0]\n",
    "a[0] = 13\n",
    "print a\n",
    "\n",
    "print b\n",
    "\n",
    "# to make copy\n",
    "b=a[:]\n",
    "a==b\n",
    "\n",
    "a[1:20]\n",
    "\n",
    "# very important to read list\n",
    "a = [1 ,2 , 3, 4]\n",
    "for num in a: print num\n",
    "    \n",
    "# check if something is in list\n",
    "2 in a\n",
    "14 in a\n",
    "\n",
    "# to add things to list\n",
    "a.append(4)\n",
    "print a\n",
    "\n",
    "# to remove from list \n",
    "a.pop(0)\n",
    "print a \n",
    "\n",
    "# to remove array from scope\n",
    "del a\n",
    "# to remove item from array\n",
    "b = [2 , 4, 5 ,6]\n",
    "del b[1]\n",
    "print b\n",
    "\n",
    "# to sort numbers \n",
    "c = [ 4, 2 , 1, 6]\n",
    "sorted(c)\n",
    "\n",
    "# to sort numbers backwards\n",
    "sorted(c , reverse = True)\n",
    "\n",
    "# sorting strings\n",
    "h = ['ccc' , 'aaaaz' , 'd' , 'bb']\n",
    "sorted(h)\n",
    "\n",
    "# sorting by string length \n",
    "sorted( h , key=len)\n",
    "\n",
    "#sorting by last letter\n",
    "def last(s): return s[-1]\n",
    "sorted( h , key=last)\n",
    "\n"
   ]
  },
  {
   "cell_type": "code",
   "execution_count": null,
   "metadata": {
    "collapsed": true
   },
   "outputs": [],
   "source": []
  }
 ],
 "metadata": {
  "kernelspec": {
   "display_name": "Python 2",
   "language": "python",
   "name": "python2"
  },
  "language_info": {
   "codemirror_mode": {
    "name": "ipython",
    "version": 2
   },
   "file_extension": ".py",
   "mimetype": "text/x-python",
   "name": "python",
   "nbconvert_exporter": "python",
   "pygments_lexer": "ipython2",
   "version": "2.7.8"
  }
 },
 "nbformat": 4,
 "nbformat_minor": 0
}
