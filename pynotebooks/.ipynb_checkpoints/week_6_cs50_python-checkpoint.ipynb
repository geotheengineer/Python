{
 "cells": [
  {
   "cell_type": "code",
   "execution_count": 7,
   "id": "94e2e21a",
   "metadata": {},
   "outputs": [],
   "source": [
    "#CS50 Week 6 Python Notes"
   ]
  },
  {
   "cell_type": "code",
   "execution_count": 8,
   "id": "cf08caaa",
   "metadata": {},
   "outputs": [
    {
     "name": "stdout",
     "output_type": "stream",
     "text": [
      "hello, world\n"
     ]
    }
   ],
   "source": [
    "#Print hello, world\n",
    "print(\"hello, world\")"
   ]
  },
  {
   "cell_type": "code",
   "execution_count": 9,
   "id": "fa9c0f58",
   "metadata": {
    "scrolled": true
   },
   "outputs": [
    {
     "name": "stdout",
     "output_type": "stream",
     "text": [
      "What's your name? Geo\n",
      "hello, Geo\n"
     ]
    }
   ],
   "source": [
    "#Print inputed name\n",
    "answer = input(\"What's your name? \")\n",
    "print(\"hello, \" + answer)\n"
   ]
  },
  {
   "cell_type": "code",
   "execution_count": 13,
   "id": "3f00649e",
   "metadata": {},
   "outputs": [
    {
     "name": "stdout",
     "output_type": "stream",
     "text": [
      "What's your name? leo\n",
      "hello, leo\n",
      "hello, leo\n"
     ]
    }
   ],
   "source": [
    "#Print inputed name using cs50\n",
    "from cs50 import get_string\n",
    "\n",
    "answer = get_string(\"What's your name? \")\n",
    "print(\"hello, \" + answer)\n",
    "\n",
    "#Formatted Print\n",
    "print(f\"hello, {answer}\")"
   ]
  },
  {
   "cell_type": "code",
   "execution_count": 18,
   "id": "76b88fd3",
   "metadata": {
    "scrolled": true
   },
   "outputs": [],
   "source": [
    "#Setting variable \n",
    "counter = 0\n",
    "\n",
    "#counter plus 1\n",
    "counter = counter + 1\n",
    "counter += 1\n"
   ]
  },
  {
   "cell_type": "code",
   "execution_count": 31,
   "id": "ae6f83b5",
   "metadata": {},
   "outputs": [
    {
     "name": "stdout",
     "output_type": "stream",
     "text": [
      "x is less than y\n",
      "x: 2\n",
      "y: 1\n",
      "x is greater than y\n"
     ]
    }
   ],
   "source": [
    "# conditions.py\n",
    "#If, elif and else statments\n",
    "\n",
    "x = 5\n",
    "y = 6\n",
    "\n",
    "if x < y:\n",
    "    print(\"x is less than y\")\n",
    "elif x > y:\n",
    "    print(\"x is greater than y\")\n",
    "else:\n",
    "    print(\"x is equal to y\")\n",
    "    \n",
    "# input values\n",
    "\n",
    "x = int(input(\"x: \"))\n",
    "y = int(input(\"y: \"))\n",
    "\n",
    "if x < y:\n",
    "    print(\"x is less than y\")\n",
    "elif x > y:\n",
    "    print(\"x is greater than y\")\n",
    "else:\n",
    "    print(\"x is equal to y\")"
   ]
  },
  {
   "cell_type": "code",
   "execution_count": null,
   "id": "439e2698",
   "metadata": {},
   "outputs": [],
   "source": [
    "# agree.py\n",
    "from cs50 import get_string\n",
    "\n",
    "s = get_string(\"Do you agree? \")\n",
    "\n",
    "if s.lower() in [\"y\",\"yes\"]:\n",
    "    print(\"Agreed.\")\n",
    "elif s.lower() in [\"n\" , \"no\"]:\n",
    "    print(\"Not agreed.\")"
   ]
  },
  {
   "cell_type": "code",
   "execution_count": 27,
   "id": "6ee68a33",
   "metadata": {},
   "outputs": [
    {
     "name": "stdout",
     "output_type": "stream",
     "text": [
      "hello, world\n",
      "hello, world\n",
      "hello, world\n",
      "hello, Geo\n",
      "hello, Geo\n",
      "hello, Geo\n",
      "Tio\n",
      "Tio\n",
      "Tio\n",
      "0\n",
      "2\n",
      "4\n",
      "6\n"
     ]
    }
   ],
   "source": [
    "#Loop\n",
    "\n",
    "i = 0\n",
    "x = True\n",
    "\n",
    "while x:\n",
    "    print(\"hello, world\")\n",
    "    i += 1\n",
    "    if i == 3:\n",
    "        x = False\n",
    "        \n",
    "for i in [0,1,2]:\n",
    "    print(\"hello, Geo\")\n",
    "    \n",
    "for i in range(3):\n",
    "    print(\"Tio\")\n",
    "    \n",
    "for i in range(0, 8, 2):\n",
    "    print(i)\n",
    "        \n"
   ]
  },
  {
   "cell_type": "code",
   "execution_count": null,
   "id": "92e67d78",
   "metadata": {},
   "outputs": [],
   "source": [
    "#blur.py \n",
    "\n",
    "from PIL import Image, ImageFilter\n",
    "\n",
    "before = Image.open(\"bridge.bmp\")\n",
    "after = before.filter(ImageFilter.BoxBlur(10))\n",
    "after.save(\"out.bmp\")"
   ]
  },
  {
   "cell_type": "code",
   "execution_count": null,
   "id": "3e38782f",
   "metadata": {},
   "outputs": [],
   "source": [
    "#Dictionaries\n",
    "#dictionary.py\n",
    "#speller.py\n",
    "#speller.c\n",
    "\n",
    "words = set()\n",
    "\n",
    "def check(word):\n",
    "    if word.lower() in words:\n",
    "        return True\n",
    "    else:\n",
    "        return False\n",
    "\n",
    "def load(dictionary):\n",
    "    file = open(dictionary, \"r\")\n",
    "    for line in file:\n",
    "        words.add(line.rstrip())\n",
    "    file.close()\n",
    "    return True\n",
    "    \n",
    "def size():\n",
    "    return len(words)\n",
    "\n",
    "def unload():\n",
    "    return True"
   ]
  },
  {
   "cell_type": "code",
   "execution_count": 29,
   "id": "eebf556e",
   "metadata": {},
   "outputs": [
    {
     "name": "stdout",
     "output_type": "stream",
     "text": [
      "x: 1\n",
      "y: 2\n",
      "3\n",
      "j: 1\n",
      "k: 2\n",
      "3\n"
     ]
    }
   ],
   "source": [
    "# addition.py\n",
    "\n",
    "# Addition with int\n",
    "\n",
    "from cs50 import get_int\n",
    "\n",
    "x = get_int(\"x: \")\n",
    "y = get_int(\"y: \")\n",
    "\n",
    "print(x+y)\n",
    "\n",
    "j = int(input(\"j: \"))\n",
    "k = int(input(\"k: \"))\n",
    "\n",
    "print(j+k)\n"
   ]
  },
  {
   "cell_type": "code",
   "execution_count": 30,
   "id": "2df3ae04",
   "metadata": {},
   "outputs": [
    {
     "name": "stdout",
     "output_type": "stream",
     "text": [
      "j: 1\n",
      "k: 2\n",
      "0.5\n"
     ]
    }
   ],
   "source": [
    "# division.py\n",
    "\n",
    "j = int(input(\"j: \"))\n",
    "k = int(input(\"k: \"))\n",
    "\n",
    "print(j/k)\n"
   ]
  },
  {
   "cell_type": "code",
   "execution_count": 38,
   "id": "765fb388",
   "metadata": {},
   "outputs": [
    {
     "name": "stdout",
     "output_type": "stream",
     "text": [
      "meow\n",
      "meow\n",
      "meow\n",
      "meow\n",
      "meow\n",
      "meow\n",
      "meow\n",
      "meow\n",
      "meow\n"
     ]
    }
   ],
   "source": [
    "# Using main function\n",
    "# meow.py\n",
    "\n",
    "def main():\n",
    "    for i in range(0,3):\n",
    "        print(\"meow\")\n",
    "    \n",
    "    for i in range(3):\n",
    "        meow()\n",
    "        \n",
    "    meoww(3)\n",
    "    \n",
    "def meow():\n",
    "    print(\"meow\")\n",
    "    \n",
    "def meoww(n):\n",
    "    for i in range(n):\n",
    "        print(\"meow\")\n",
    "    \n",
    "# Calling main\n",
    "if __name__ == \"__main__\":\n",
    "    main()"
   ]
  },
  {
   "cell_type": "code",
   "execution_count": 39,
   "id": "9ddd72d6",
   "metadata": {},
   "outputs": [
    {
     "name": "stdout",
     "output_type": "stream",
     "text": [
      "Positive Integer: -1\n",
      "Positive Integer: 2\n",
      "2\n"
     ]
    }
   ],
   "source": [
    "# positive.py\n",
    "\n",
    "from cs50 import get_int\n",
    "\n",
    "def main():\n",
    "    i = get_positive_int()\n",
    "    print(i)\n",
    "    \n",
    "def get_positive_int():\n",
    "    while True:\n",
    "        n = get_int(\"Positive Integer: \")\n",
    "        if n > 0:\n",
    "            break\n",
    "    return n\n",
    "\n",
    "main()"
   ]
  },
  {
   "cell_type": "code",
   "execution_count": 44,
   "id": "db74c204",
   "metadata": {},
   "outputs": [
    {
     "name": "stdout",
     "output_type": "stream",
     "text": [
      "????\n",
      "????\n",
      "###\n",
      "###\n",
      "###\n"
     ]
    }
   ],
   "source": [
    "#mario.py\n",
    "\n",
    "for i in range(4):\n",
    "    print(\"?\", end=\"\")\n",
    "print()\n",
    "print(\"?\" * 4)\n",
    "\n",
    "for i in range(3):\n",
    "    for j in range(3):\n",
    "        print(\"#\", end=\"\")\n",
    "    print()"
   ]
  },
  {
   "cell_type": "code",
   "execution_count": 47,
   "id": "174ea2bc",
   "metadata": {},
   "outputs": [],
   "source": [
    "# scores.py\n",
    "\n",
    "scores = [72, 73, 33]\n"
   ]
  },
  {
   "cell_type": "code",
   "execution_count": null,
   "id": "f30b3d70",
   "metadata": {},
   "outputs": [],
   "source": []
  },
  {
   "cell_type": "code",
   "execution_count": null,
   "id": "9c5c5fdf",
   "metadata": {},
   "outputs": [],
   "source": []
  },
  {
   "cell_type": "code",
   "execution_count": null,
   "id": "ddca6df5",
   "metadata": {},
   "outputs": [],
   "source": []
  },
  {
   "cell_type": "code",
   "execution_count": null,
   "id": "9da614bc",
   "metadata": {},
   "outputs": [],
   "source": []
  },
  {
   "cell_type": "code",
   "execution_count": 14,
   "id": "d7a0d3ef",
   "metadata": {},
   "outputs": [
    {
     "name": "stdout",
     "output_type": "stream",
     "text": [
      "1 0 0\n",
      "0 1 0\n",
      "0 0 1\n"
     ]
    }
   ],
   "source": [
    "#Prints 3 by 3 formatted Matrix\n",
    "c11 = 1\n",
    "c12 = 0\n",
    "c13 = 0\n",
    "c21 = 0\n",
    "c22 = 1\n",
    "c23 = 0\n",
    "c31 = 0\n",
    "c32 = 0\n",
    "c33 = 1\n",
    "print(f\"{c11} {c12} {c13}\")\n",
    "print(f\"{c21} {c22} {c23}\")\n",
    "print(f\"{c31} {c32} {c33}\")"
   ]
  }
 ],
 "metadata": {
  "kernelspec": {
   "display_name": "Python 3 (ipykernel)",
   "language": "python",
   "name": "python3"
  },
  "language_info": {
   "codemirror_mode": {
    "name": "ipython",
    "version": 3
   },
   "file_extension": ".py",
   "mimetype": "text/x-python",
   "name": "python",
   "nbconvert_exporter": "python",
   "pygments_lexer": "ipython3",
   "version": "3.7.11"
  }
 },
 "nbformat": 4,
 "nbformat_minor": 5
}
