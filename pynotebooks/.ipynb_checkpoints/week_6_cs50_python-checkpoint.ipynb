{
 "cells": [
  {
   "cell_type": "markdown",
   "id": "83a23f42-cce0-4042-a2f6-a26463c88f82",
   "metadata": {},
   "source": [
    "#CS50 Week 6 Python Notes"
   ]
  },
  {
   "cell_type": "code",
   "execution_count": 8,
   "id": "cf08caaa",
   "metadata": {},
   "outputs": [
    {
     "name": "stdout",
     "output_type": "stream",
     "text": [
      "hello, world\n"
     ]
    }
   ],
   "source": [
    "#Print hello, world\n",
    "print(\"hello, world\")"
   ]
  },
  {
   "cell_type": "code",
   "execution_count": 9,
   "id": "fa9c0f58",
   "metadata": {
    "scrolled": true
   },
   "outputs": [
    {
     "name": "stdout",
     "output_type": "stream",
     "text": [
      "What's your name? Geo\n",
      "hello, Geo\n"
     ]
    }
   ],
   "source": [
    "#Print inputed name\n",
    "answer = input(\"What's your name? \")\n",
    "print(\"hello, \" + answer)\n"
   ]
  },
  {
   "cell_type": "code",
   "execution_count": 13,
   "id": "3f00649e",
   "metadata": {},
   "outputs": [
    {
     "name": "stdout",
     "output_type": "stream",
     "text": [
      "What's your name? leo\n",
      "hello, leo\n",
      "hello, leo\n"
     ]
    }
   ],
   "source": [
    "#Print inputed name using cs50\n",
    "from cs50 import get_string\n",
    "\n",
    "answer = get_string(\"What's your name? \")\n",
    "print(\"hello, \" + answer)\n",
    "\n",
    "#Formatted Print\n",
    "print(f\"hello, {answer}\")"
   ]
  },
  {
   "cell_type": "code",
   "execution_count": 18,
   "id": "76b88fd3",
   "metadata": {
    "scrolled": true
   },
   "outputs": [],
   "source": [
    "#Setting variable \n",
    "counter = 0\n",
    "\n",
    "#counter plus 1\n",
    "counter = counter + 1\n",
    "counter += 1\n"
   ]
  },
  {
   "cell_type": "code",
   "execution_count": 31,
   "id": "ae6f83b5",
   "metadata": {},
   "outputs": [
    {
     "name": "stdout",
     "output_type": "stream",
     "text": [
      "x is less than y\n",
      "x: 2\n",
      "y: 1\n",
      "x is greater than y\n"
     ]
    }
   ],
   "source": [
    "# conditions.py\n",
    "#If, elif and else statments\n",
    "\n",
    "x = 5\n",
    "y = 6\n",
    "\n",
    "if x < y:\n",
    "    print(\"x is less than y\")\n",
    "elif x > y:\n",
    "    print(\"x is greater than y\")\n",
    "else:\n",
    "    print(\"x is equal to y\")\n",
    "    \n",
    "# input values\n",
    "\n",
    "x = int(input(\"x: \"))\n",
    "y = int(input(\"y: \"))\n",
    "\n",
    "if x < y:\n",
    "    print(\"x is less than y\")\n",
    "elif x > y:\n",
    "    print(\"x is greater than y\")\n",
    "else:\n",
    "    print(\"x is equal to y\")"
   ]
  },
  {
   "cell_type": "code",
   "execution_count": null,
   "id": "439e2698",
   "metadata": {},
   "outputs": [],
   "source": [
    "# agree.py\n",
    "from cs50 import get_string\n",
    "\n",
    "s = get_string(\"Do you agree? \")\n",
    "\n",
    "if s.lower() in [\"y\",\"yes\"]:\n",
    "    print(\"Agreed.\")\n",
    "elif s.lower() in [\"n\" , \"no\"]:\n",
    "    print(\"Not agreed.\")"
   ]
  },
  {
   "cell_type": "code",
   "execution_count": 27,
   "id": "6ee68a33",
   "metadata": {},
   "outputs": [
    {
     "name": "stdout",
     "output_type": "stream",
     "text": [
      "hello, world\n",
      "hello, world\n",
      "hello, world\n",
      "hello, Geo\n",
      "hello, Geo\n",
      "hello, Geo\n",
      "Tio\n",
      "Tio\n",
      "Tio\n",
      "0\n",
      "2\n",
      "4\n",
      "6\n"
     ]
    }
   ],
   "source": [
    "#Loop\n",
    "\n",
    "i = 0\n",
    "x = True\n",
    "\n",
    "while x:\n",
    "    print(\"hello, world\")\n",
    "    i += 1\n",
    "    if i == 3:\n",
    "        x = False\n",
    "        \n",
    "for i in [0,1,2]:\n",
    "    print(\"hello, Geo\")\n",
    "    \n",
    "for i in range(3):\n",
    "    print(\"Tio\")\n",
    "    \n",
    "for i in range(0, 8, 2):\n",
    "    print(i)\n",
    "        \n"
   ]
  },
  {
   "cell_type": "code",
   "execution_count": null,
   "id": "92e67d78",
   "metadata": {},
   "outputs": [],
   "source": [
    "#blur.py \n",
    "\n",
    "from PIL import Image, ImageFilter\n",
    "\n",
    "before = Image.open(\"bridge.bmp\")\n",
    "after = before.filter(ImageFilter.BoxBlur(10))\n",
    "after.save(\"out.bmp\")"
   ]
  },
  {
   "cell_type": "code",
   "execution_count": null,
   "id": "3e38782f",
   "metadata": {},
   "outputs": [],
   "source": [
    "#Dictionaries\n",
    "#dictionary.py\n",
    "#speller.py\n",
    "#speller.c\n",
    "\n",
    "words = set()\n",
    "\n",
    "def check(word):\n",
    "    if word.lower() in words:\n",
    "        return True\n",
    "    else:\n",
    "        return False\n",
    "\n",
    "def load(dictionary):\n",
    "    file = open(dictionary, \"r\")\n",
    "    for line in file:\n",
    "        words.add(line.rstrip())\n",
    "    file.close()\n",
    "    return True\n",
    "    \n",
    "def size():\n",
    "    return len(words)\n",
    "\n",
    "def unload():\n",
    "    return True"
   ]
  },
  {
   "cell_type": "code",
   "execution_count": 29,
   "id": "eebf556e",
   "metadata": {},
   "outputs": [
    {
     "name": "stdout",
     "output_type": "stream",
     "text": [
      "x: 1\n",
      "y: 2\n",
      "3\n",
      "j: 1\n",
      "k: 2\n",
      "3\n"
     ]
    }
   ],
   "source": [
    "# addition.py\n",
    "\n",
    "# Addition with int\n",
    "\n",
    "from cs50 import get_int\n",
    "\n",
    "x = get_int(\"x: \")\n",
    "y = get_int(\"y: \")\n",
    "\n",
    "print(x+y)\n",
    "\n",
    "j = int(input(\"j: \"))\n",
    "k = int(input(\"k: \"))\n",
    "\n",
    "print(j+k)\n"
   ]
  },
  {
   "cell_type": "code",
   "execution_count": 30,
   "id": "2df3ae04",
   "metadata": {},
   "outputs": [
    {
     "name": "stdout",
     "output_type": "stream",
     "text": [
      "j: 1\n",
      "k: 2\n",
      "0.5\n"
     ]
    }
   ],
   "source": [
    "# division.py\n",
    "\n",
    "j = int(input(\"j: \"))\n",
    "k = int(input(\"k: \"))\n",
    "\n",
    "print(j/k)\n"
   ]
  },
  {
   "cell_type": "code",
   "execution_count": 38,
   "id": "765fb388",
   "metadata": {},
   "outputs": [
    {
     "name": "stdout",
     "output_type": "stream",
     "text": [
      "meow\n",
      "meow\n",
      "meow\n",
      "meow\n",
      "meow\n",
      "meow\n",
      "meow\n",
      "meow\n",
      "meow\n"
     ]
    }
   ],
   "source": [
    "# Using main function\n",
    "# meow.py\n",
    "\n",
    "def main():\n",
    "    for i in range(0,3):\n",
    "        print(\"meow\")\n",
    "    \n",
    "    for i in range(3):\n",
    "        meow()\n",
    "        \n",
    "    meoww(3)\n",
    "    \n",
    "def meow():\n",
    "    print(\"meow\")\n",
    "    \n",
    "def meoww(n):\n",
    "    for i in range(n):\n",
    "        print(\"meow\")\n",
    "    \n",
    "# Calling main\n",
    "if __name__ == \"__main__\":\n",
    "    main()"
   ]
  },
  {
   "cell_type": "code",
   "execution_count": 39,
   "id": "9ddd72d6",
   "metadata": {},
   "outputs": [
    {
     "name": "stdout",
     "output_type": "stream",
     "text": [
      "Positive Integer: -1\n",
      "Positive Integer: 2\n",
      "2\n"
     ]
    }
   ],
   "source": [
    "# positive.py\n",
    "\n",
    "from cs50 import get_int\n",
    "\n",
    "def main():\n",
    "    i = get_positive_int()\n",
    "    print(i)\n",
    "    \n",
    "def get_positive_int():\n",
    "    while True:\n",
    "        n = get_int(\"Positive Integer: \")\n",
    "        if n > 0:\n",
    "            break\n",
    "    return n\n",
    "\n",
    "main()"
   ]
  },
  {
   "cell_type": "code",
   "execution_count": 44,
   "id": "db74c204",
   "metadata": {},
   "outputs": [
    {
     "name": "stdout",
     "output_type": "stream",
     "text": [
      "????\n",
      "????\n",
      "###\n",
      "###\n",
      "###\n"
     ]
    }
   ],
   "source": [
    "#mario.py\n",
    "\n",
    "for i in range(4):\n",
    "    print(\"?\", end=\"\")\n",
    "print()\n",
    "print(\"?\" * 4)\n",
    "\n",
    "for i in range(3):\n",
    "    for j in range(3):\n",
    "        print(\"#\", end=\"\")\n",
    "    print()"
   ]
  },
  {
   "cell_type": "code",
   "execution_count": 2,
   "id": "174ea2bc",
   "metadata": {},
   "outputs": [
    {
     "name": "stdout",
     "output_type": "stream",
     "text": [
      "Average: 59.333333333333336\n"
     ]
    }
   ],
   "source": [
    "# scores.py\n",
    "\n",
    "scores = [72, 73, 33]\n",
    "\n",
    "print(\"Average: \" + str(sum(scores) / len(scores)))\n",
    "\n",
    "from cs50 import get_int\n",
    "\n",
    "scores = []\n",
    "for i in range(3):\n",
    "    scores.append(get_int(\"Score: \")\n",
    "                  \n",
    "print(\"Average: \" + str(sum(scores) / len(scores)))\n",
    "                  \n",
    "#scores.py\n",
    "\n",
    "print(f\"Average; {sum(scores) / len(scores)}\")\n",
    "\n",
    "average = sum(scores) / len(scores) \n",
    "print(f\"Average: {average}\")\n",
    "\n",
    "\n",
    "scores = []\n",
    "for i in range(3):\n",
    "    scores.append(get_int(\"Score: \"))\n",
    "\n"
   ]
  },
  {
   "cell_type": "code",
   "execution_count": 1,
   "id": "f30b3d70",
   "metadata": {},
   "outputs": [
    {
     "name": "stdout",
     "output_type": "stream",
     "text": [
      "Before: david\n",
      "After:  DAVID\n",
      "DAVID\n"
     ]
    }
   ],
   "source": [
    "#uppercase.py\n",
    "from cs50 import get_string\n",
    "\n",
    "s = get_string(\"Before: \")\n",
    "print(\"After:  \", end=\"\")\n",
    "print(s.upper())\n",
    "\n",
    "for c in s:\n",
    "    print(c.upper(), end=\"\")\n",
    "print()"
   ]
  },
  {
   "cell_type": "code",
   "execution_count": 2,
   "id": "9c5c5fdf",
   "metadata": {},
   "outputs": [
    {
     "name": "stdout",
     "output_type": "stream",
     "text": [
      "hello, world\n",
      "/home/geopapishampoo/anaconda3/lib/python3.7/site-packages/ipykernel_launcher.py\n",
      "-f\n",
      "/home/geopapishampoo/.local/share/jupyter/runtime/kernel-23b7b540-d4e0-478b-9952-4b9bc293ec37.json\n"
     ]
    }
   ],
   "source": [
    "#argv.py \n",
    "from sys import argv\n",
    "\n",
    "if len(argv) == 2:\n",
    "    print(f\"hello, {argv[1]}\")\n",
    "else:\n",
    "    print(\"hello, world\")\n",
    "\t\n",
    "for arg in argv:\n",
    "    print(arg)"
   ]
  },
  {
   "cell_type": "code",
   "execution_count": 4,
   "id": "ddca6df5",
   "metadata": {},
   "outputs": [
    {
     "name": "stdout",
     "output_type": "stream",
     "text": [
      "missing command-line argument\n"
     ]
    },
    {
     "ename": "SystemExit",
     "evalue": "1",
     "output_type": "error",
     "traceback": [
      "An exception has occurred, use %tb to see the full traceback.\n",
      "\u001b[0;31mSystemExit\u001b[0m\u001b[0;31m:\u001b[0m 1\n"
     ]
    },
    {
     "name": "stderr",
     "output_type": "stream",
     "text": [
      "/home/geopapishampoo/anaconda3/lib/python3.7/site-packages/IPython/core/interactiveshell.py:3452: UserWarning: To exit: use 'exit', 'quit', or Ctrl-D.\n",
      "  warn(\"To exit: use 'exit', 'quit', or Ctrl-D.\", stacklevel=1)\n"
     ]
    }
   ],
   "source": [
    "#exit.py \n",
    "import sys\n",
    "if len(sys.argv) != 2:\n",
    "    print(\"missing command-line argument\")\n",
    "    sys.exit(1)\n",
    "\n",
    "priint(f\"hello, {sys.argv[1]}\")\n",
    "sys.exit(0)\n"
   ]
  },
  {
   "cell_type": "code",
   "execution_count": 5,
   "id": "9da614bc",
   "metadata": {},
   "outputs": [
    {
     "name": "stdout",
     "output_type": "stream",
     "text": [
      "Found\n"
     ]
    }
   ],
   "source": [
    "#numbers.py\n",
    "import sys\n",
    "\n",
    "numbers = [4,6,8,2,7,5,0]\n",
    "\n",
    "if 0 in numbers:\n",
    "    print(\"Found\")\n",
    "    sys.exit(0)\n",
    "else:\n",
    "    print(\"Not found\")\n",
    "    sys.exit(1)\n",
    "    "
   ]
  },
  {
   "cell_type": "code",
   "execution_count": 6,
   "id": "b9cd96f6",
   "metadata": {},
   "outputs": [],
   "source": [
    "#names.py\n",
    "\n",
    "names = [\"Bill\", \"Charlie\", \"Fred\", \"George\", \"Ginny\", \"Percy\", \"Ron\"]\n",
    "\n",
    "if \"Ron\" in names:\n",
    "    print(\"Found\")\n",
    "    sys.exit(0)\n",
    "else:\n",
    "    print(\"Not found\")\n",
    "    sys.exit(1)    "
   ]
  },
  {
   "cell_type": "code",
   "execution_count": 10,
   "id": "9895d2dc",
   "metadata": {},
   "outputs": [
    {
     "name": "stdout",
     "output_type": "stream",
     "text": [
      "Name: David\n",
      "Number: +1-949-468-2750\n"
     ]
    }
   ],
   "source": [
    "#phonebook.py\n",
    "\n",
    "from cs50 import get_string\n",
    "\n",
    "people = {\n",
    "    \"Brian\" : \"+1-617-495-1000\",\n",
    "    \"David\" : \"+1-949-468-2750\"\n",
    "}\n",
    "\n",
    "name = get_string(\"Name: \")\n",
    "if name in people:\n",
    "    number = people[name]\n",
    "    print(f\"Number: {number}\")"
   ]
  },
  {
   "cell_type": "code",
   "execution_count": 11,
   "id": "40afe16e",
   "metadata": {},
   "outputs": [
    {
     "name": "stdout",
     "output_type": "stream",
     "text": [
      "x is 1, y is 2\n",
      "x is 2, y is 1\n"
     ]
    }
   ],
   "source": [
    "#swap.py\n",
    "\n",
    "x = 1\n",
    "y =2\n",
    "\n",
    "print(f\"x is {x}, y is {y}\")\n",
    "x, y = y, x\n",
    "print(f\"x is {x}, y is {y}\")\n"
   ]
  },
  {
   "cell_type": "raw",
   "id": "ce6e89c1",
   "metadata": {},
   "source": [
    "#phonebook.csv\n",
    "name,number"
   ]
  },
  {
   "cell_type": "code",
   "execution_count": null,
   "id": "ffb0b72f",
   "metadata": {},
   "outputs": [],
   "source": [
    "#phonebook.py\n",
    "import csv\n",
    "\n",
    "from cs50 import get_string\n",
    "\n",
    "file = open(\"phonebook.csv\", \"a\")\n",
    "\n",
    "name = get_string(\"Name: \")\n",
    "number = get_string(\"Number: \")\n",
    "\n",
    "writer = csv.writer(file)\n",
    "\n",
    "writer.writerow([name, number])\n",
    "\n",
    "file.close()\n",
    "\n",
    "\n",
    "#More pythonetic\n",
    "with open(\"phonebook.csv\", \"a\") as file:\n",
    "    \n",
    "    name = get_string(\"Name: \")\n",
    "    number = get_string(\"Number: \")\n",
    "\n",
    "    writer = csv.writer(file)\n",
    "\n",
    "    writer.writerow([name, number])\n",
    "    "
   ]
  },
  {
   "cell_type": "code",
   "execution_count": null,
   "id": "696d63cb",
   "metadata": {},
   "outputs": [],
   "source": [
    "#hogwarts.py\n",
    "\n",
    "import csv\n",
    "\n",
    "houses = {\n",
    "    \"Gryffindor\": 0,\n",
    "    \"Hufflepuff\": 0,\n",
    "    \"Ravenclaw\": 0,\n",
    "    \"Slytherin\": 0\n",
    "}\n",
    "\n",
    "with open(\"Sorting Hat - Form Responses 1.csv\", \"r\") as file:\n",
    "    reader = csv.reader(file)\n",
    "    #skip first row just heading\n",
    "    next(reader)\n",
    "    for row in reader:\n",
    "        house = row[1]\n",
    "        houses[house] += 1\n",
    "        \n",
    "for house in houses:\n",
    "    print(f\"{house}: {houses[house]}\")\n",
    "\n"
   ]
  },
  {
   "cell_type": "code",
   "execution_count": null,
   "id": "1247feef",
   "metadata": {},
   "outputs": [],
   "source": [
    "#speech.py\n",
    "import pyttsx3\n",
    "\n",
    "engine = pyttsx3.init()\n",
    "name = input(\"What's your name? \")\n",
    "engine.say(f\"hello, {name}\")\n",
    "engine.runAndWait()"
   ]
  },
  {
   "cell_type": "code",
   "execution_count": null,
   "id": "72f08bb9",
   "metadata": {},
   "outputs": [],
   "source": [
    "#Qr Codes\n",
    "#qr.py\n",
    "\n",
    "import os\n",
    "import qrcode\n",
    "\n",
    "img = qrcode.make(\"https://youtu.be/oHg5SJYRHA0\")\n",
    "img.save(\"qr.png\", \"PNG\")\n",
    "os.system(\"open qr.png\")"
   ]
  },
  {
   "cell_type": "code",
   "execution_count": 1,
   "id": "62f30cdd",
   "metadata": {},
   "outputs": [
    {
     "ename": "ModuleNotFoundError",
     "evalue": "No module named 'speech_recognition'",
     "output_type": "error",
     "traceback": [
      "\u001b[0;31m---------------------------------------------------------------------------\u001b[0m",
      "\u001b[0;31mModuleNotFoundError\u001b[0m                       Traceback (most recent call last)",
      "\u001b[0;32m/var/folders/t8/z4d6tdy959z38192j_9swbhw0000gn/T/ipykernel_1394/1179309566.py\u001b[0m in \u001b[0;36m<module>\u001b[0;34m\u001b[0m\n\u001b[1;32m      1\u001b[0m \u001b[0;31m#Speech Recognition\u001b[0m\u001b[0;34m\u001b[0m\u001b[0;34m\u001b[0m\u001b[0m\n\u001b[0;32m----> 2\u001b[0;31m \u001b[0;32mimport\u001b[0m \u001b[0mspeech_recognition\u001b[0m\u001b[0;34m\u001b[0m\u001b[0;34m\u001b[0m\u001b[0m\n\u001b[0m\u001b[1;32m      3\u001b[0m \u001b[0;34m\u001b[0m\u001b[0m\n\u001b[1;32m      4\u001b[0m \u001b[0mrecognizer\u001b[0m \u001b[0;34m=\u001b[0m \u001b[0mspeech_recognition\u001b[0m\u001b[0;34m.\u001b[0m\u001b[0mRecognizer\u001b[0m\u001b[0;34m(\u001b[0m\u001b[0;34m)\u001b[0m\u001b[0;34m\u001b[0m\u001b[0;34m\u001b[0m\u001b[0m\n\u001b[1;32m      5\u001b[0m \u001b[0;32mwith\u001b[0m \u001b[0mspeech_recognition\u001b[0m\u001b[0;34m.\u001b[0m\u001b[0mMicrophone\u001b[0m\u001b[0;34m(\u001b[0m\u001b[0;34m)\u001b[0m \u001b[0;32mas\u001b[0m \u001b[0msource\u001b[0m\u001b[0;34m:\u001b[0m\u001b[0;34m\u001b[0m\u001b[0;34m\u001b[0m\u001b[0m\n",
      "\u001b[0;31mModuleNotFoundError\u001b[0m: No module named 'speech_recognition'"
     ]
    }
   ],
   "source": [
    "#Speech Recognition\n",
    "import speech_recognition\n",
    "\n",
    "recognizer = speech_recognition.Recognizer()\n",
    "with speech_recognition.Microphone() as source:\n",
    "    print(\"Say something: \")\n",
    "    audio = recognizer.listen(source)\n",
    "    \n",
    "print(\"You said:\")\n",
    "print(recognizer.recognize_google(audio))"
   ]
  },
  {
   "cell_type": "code",
   "execution_count": 14,
   "id": "d7a0d3ef",
   "metadata": {},
   "outputs": [
    {
     "name": "stdout",
     "output_type": "stream",
     "text": [
      "1 0 0\n",
      "0 1 0\n",
      "0 0 1\n"
     ]
    }
   ],
   "source": [
    "#Prints 3 by 3 formatted Matrix\n",
    "c11 = 1\n",
    "c12 = 0\n",
    "c13 = 0\n",
    "c21 = 0\n",
    "c22 = 1\n",
    "c23 = 0\n",
    "c31 = 0\n",
    "c32 = 0\n",
    "c33 = 1\n",
    "print(f\"{c11} {c12} {c13}\")\n",
    "print(f\"{c21} {c22} {c23}\")\n",
    "print(f\"{c31} {c32} {c33}\")"
   ]
  }
 ],
 "metadata": {
  "kernelspec": {
   "display_name": "Python 3 (ipykernel)",
   "language": "python",
   "name": "python3"
  },
  "language_info": {
   "codemirror_mode": {
    "name": "ipython",
    "version": 3
   },
   "file_extension": ".py",
   "mimetype": "text/x-python",
   "name": "python",
   "nbconvert_exporter": "python",
   "pygments_lexer": "ipython3",
   "version": "3.9.7"
  }
 },
 "nbformat": 4,
 "nbformat_minor": 5
}
