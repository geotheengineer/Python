{
 "cells": [
  {
   "cell_type": "markdown",
   "metadata": {},
   "source": [
    "# Project C-1\n",
    "Heat Loss from a Pipe\n",
    "A 14 meter long pipe with an outside diameter of 10 cm loses heat to an ambient fluid at24C.Measurements show that surface temperature Ts(x) varies with distance along the pipe. Analysis\n",
    "of the heat transfer coefficient h indicates that it varies along the pipe. The variations of Ts(x)\n",
    "and h(x) are tabulated below. Determine the heat transfer rate from the pipe.\n"
   ]
  },
  {
   "cell_type": "markdown",
   "metadata": {},
   "source": [
    "#    x -   0 2 4 6 8 8.5 12 14\n"
   ]
  },
  {
   "cell_type": "markdown",
   "metadata": {},
   "source": [
    "# Ts(x) - 35 112 102 94.8 89.6 68.3 58.9 52.8\n",
    " "
   ]
  },
  {
   "cell_type": "markdown",
   "metadata": {},
   "source": [
    "# h(x) - 34 27.5 23.1 19.4 16.6 56.6 48.9 39.7"
   ]
  },
  {
   "cell_type": "markdown",
   "metadata": {},
   "source": [
    "# \n",
    "#______________Python Program________________  "
   ]
  },
  {
   "cell_type": "code",
   "execution_count": 5,
   "metadata": {
    "collapsed": false
   },
   "outputs": [],
   "source": [
    "import numpy as np\n",
    "import matplotlib.pyplot as plt\n",
    "\n",
    "\n",
    "x = np.linspace(0, 10)\n",
    "line, = plt.plot(x, np.sin(x), '--', linewidth=2)\n",
    "\n",
    "dashes = [10, 5, 100, 5] # 10 points on, 5 off, 100 on, 5 off\n",
    "line.set_dashes(dashes)\n",
    "plt.xlabel('x')\n",
    "plt.ylabel('T(x)')\n",
    "plt.title('Surface Temperature Variation ')\n",
    "plt.show()\n",
    "\n"
   ]
  },
  {
   "cell_type": "code",
   "execution_count": null,
   "metadata": {
    "collapsed": true
   },
   "outputs": [],
   "source": []
  }
 ],
 "metadata": {
  "kernelspec": {
   "display_name": "Python 2",
   "language": "python",
   "name": "python2"
  },
  "language_info": {
   "codemirror_mode": {
    "name": "ipython",
    "version": 2
   },
   "file_extension": ".py",
   "mimetype": "text/x-python",
   "name": "python",
   "nbconvert_exporter": "python",
   "pygments_lexer": "ipython2",
   "version": "2.7.8"
  }
 },
 "nbformat": 4,
 "nbformat_minor": 0
}
